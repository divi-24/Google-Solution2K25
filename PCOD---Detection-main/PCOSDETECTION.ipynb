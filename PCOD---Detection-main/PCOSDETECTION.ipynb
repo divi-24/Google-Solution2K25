{
 "cells": [
  {
   "cell_type": "markdown",
   "id": "e25e4f7f",
   "metadata": {},
   "source": [
    "# PROJECT -  Polycystic ovary syndrome (PCOS) PREDICTION USING MACHINE LEARNING "
   ]
  },
  {
   "cell_type": "code",
   "execution_count": 31,
   "id": "228e48aa",
   "metadata": {},
   "outputs": [],
   "source": [
    "import pandas as pd\n",
    "import pickle\n",
    "import numpy as np\n",
    "from sklearn.datasets import make_classification\n",
    "from sklearn.svm import SVC\n",
    "from sklearn.ensemble import RandomForestClassifier\n",
    "from sklearn.linear_model import LogisticRegression\n",
    "from matplotlib import pyplot as plt"
   ]
  },
  {
   "cell_type": "code",
   "execution_count": 5,
   "id": "232b8340",
   "metadata": {},
   "outputs": [],
   "source": [
    "df = pd.read_csv(\"PCOS_infertility.csv\")\n",
    "df = df.fillna(0)"
   ]
  },
  {
   "cell_type": "code",
   "execution_count": 6,
   "id": "ac7ca138",
   "metadata": {},
   "outputs": [
    {
     "data": {
      "text/plain": [
       "Index(['Sl. No', 'Patient File No.', 'PCOS (Y/N)', '  I   beta-HCG(mIU/mL)',\n",
       "       'II    beta-HCG(mIU/mL)', 'AMH(ng/mL)'],\n",
       "      dtype='object')"
      ]
     },
     "execution_count": 6,
     "metadata": {},
     "output_type": "execute_result"
    }
   ],
   "source": [
    "df.columns"
   ]
  },
  {
   "cell_type": "code",
   "execution_count": 7,
   "id": "235ced92",
   "metadata": {},
   "outputs": [
    {
     "data": {
      "text/html": [
       "<div>\n",
       "<style scoped>\n",
       "    .dataframe tbody tr th:only-of-type {\n",
       "        vertical-align: middle;\n",
       "    }\n",
       "\n",
       "    .dataframe tbody tr th {\n",
       "        vertical-align: top;\n",
       "    }\n",
       "\n",
       "    .dataframe thead th {\n",
       "        text-align: right;\n",
       "    }\n",
       "</style>\n",
       "<table border=\"1\" class=\"dataframe\">\n",
       "  <thead>\n",
       "    <tr style=\"text-align: right;\">\n",
       "      <th></th>\n",
       "      <th>Sl. No</th>\n",
       "      <th>Patient File No.</th>\n",
       "      <th>PCOS (Y/N)</th>\n",
       "      <th>I   beta-HCG(mIU/mL)</th>\n",
       "      <th>II    beta-HCG(mIU/mL)</th>\n",
       "      <th>AMH(ng/mL)</th>\n",
       "    </tr>\n",
       "  </thead>\n",
       "  <tbody>\n",
       "    <tr>\n",
       "      <th>0</th>\n",
       "      <td>1</td>\n",
       "      <td>10001</td>\n",
       "      <td>0</td>\n",
       "      <td>1.99</td>\n",
       "      <td>1.99</td>\n",
       "      <td>2.07</td>\n",
       "    </tr>\n",
       "    <tr>\n",
       "      <th>1</th>\n",
       "      <td>2</td>\n",
       "      <td>10002</td>\n",
       "      <td>0</td>\n",
       "      <td>60.80</td>\n",
       "      <td>1.99</td>\n",
       "      <td>1.53</td>\n",
       "    </tr>\n",
       "    <tr>\n",
       "      <th>2</th>\n",
       "      <td>3</td>\n",
       "      <td>10003</td>\n",
       "      <td>1</td>\n",
       "      <td>494.08</td>\n",
       "      <td>494.08</td>\n",
       "      <td>6.63</td>\n",
       "    </tr>\n",
       "    <tr>\n",
       "      <th>3</th>\n",
       "      <td>4</td>\n",
       "      <td>10004</td>\n",
       "      <td>0</td>\n",
       "      <td>1.99</td>\n",
       "      <td>1.99</td>\n",
       "      <td>1.22</td>\n",
       "    </tr>\n",
       "    <tr>\n",
       "      <th>4</th>\n",
       "      <td>5</td>\n",
       "      <td>10005</td>\n",
       "      <td>0</td>\n",
       "      <td>801.45</td>\n",
       "      <td>801.45</td>\n",
       "      <td>2.26</td>\n",
       "    </tr>\n",
       "    <tr>\n",
       "      <th>...</th>\n",
       "      <td>...</td>\n",
       "      <td>...</td>\n",
       "      <td>...</td>\n",
       "      <td>...</td>\n",
       "      <td>...</td>\n",
       "      <td>...</td>\n",
       "    </tr>\n",
       "    <tr>\n",
       "      <th>536</th>\n",
       "      <td>537</td>\n",
       "      <td>10537</td>\n",
       "      <td>0</td>\n",
       "      <td>1.99</td>\n",
       "      <td>1.99</td>\n",
       "      <td>1.7</td>\n",
       "    </tr>\n",
       "    <tr>\n",
       "      <th>537</th>\n",
       "      <td>538</td>\n",
       "      <td>10538</td>\n",
       "      <td>0</td>\n",
       "      <td>80.13</td>\n",
       "      <td>1.99</td>\n",
       "      <td>5.6</td>\n",
       "    </tr>\n",
       "    <tr>\n",
       "      <th>538</th>\n",
       "      <td>539</td>\n",
       "      <td>10539</td>\n",
       "      <td>0</td>\n",
       "      <td>1.99</td>\n",
       "      <td>1.99</td>\n",
       "      <td>3.7</td>\n",
       "    </tr>\n",
       "    <tr>\n",
       "      <th>539</th>\n",
       "      <td>540</td>\n",
       "      <td>10540</td>\n",
       "      <td>0</td>\n",
       "      <td>292.92</td>\n",
       "      <td>1.99</td>\n",
       "      <td>5.2</td>\n",
       "    </tr>\n",
       "    <tr>\n",
       "      <th>540</th>\n",
       "      <td>541</td>\n",
       "      <td>10541</td>\n",
       "      <td>1</td>\n",
       "      <td>1.99</td>\n",
       "      <td>1.99</td>\n",
       "      <td>20</td>\n",
       "    </tr>\n",
       "  </tbody>\n",
       "</table>\n",
       "<p>541 rows × 6 columns</p>\n",
       "</div>"
      ],
      "text/plain": [
       "     Sl. No  Patient File No.  PCOS (Y/N)    I   beta-HCG(mIU/mL)  \\\n",
       "0         1             10001           0                    1.99   \n",
       "1         2             10002           0                   60.80   \n",
       "2         3             10003           1                  494.08   \n",
       "3         4             10004           0                    1.99   \n",
       "4         5             10005           0                  801.45   \n",
       "..      ...               ...         ...                     ...   \n",
       "536     537             10537           0                    1.99   \n",
       "537     538             10538           0                   80.13   \n",
       "538     539             10539           0                    1.99   \n",
       "539     540             10540           0                  292.92   \n",
       "540     541             10541           1                    1.99   \n",
       "\n",
       "     II    beta-HCG(mIU/mL) AMH(ng/mL)  \n",
       "0                      1.99       2.07  \n",
       "1                      1.99       1.53  \n",
       "2                    494.08       6.63  \n",
       "3                      1.99       1.22  \n",
       "4                    801.45       2.26  \n",
       "..                      ...        ...  \n",
       "536                    1.99        1.7  \n",
       "537                    1.99        5.6  \n",
       "538                    1.99        3.7  \n",
       "539                    1.99        5.2  \n",
       "540                    1.99         20  \n",
       "\n",
       "[541 rows x 6 columns]"
      ]
     },
     "execution_count": 7,
     "metadata": {},
     "output_type": "execute_result"
    }
   ],
   "source": [
    "df"
   ]
  },
  {
   "cell_type": "markdown",
   "id": "c57879f5",
   "metadata": {},
   "source": [
    "# DATA SEGREGATION INTO FEATURES AND TARGET"
   ]
  },
  {
   "cell_type": "code",
   "execution_count": 8,
   "id": "29b49eed",
   "metadata": {},
   "outputs": [],
   "source": [
    "inputs = df.drop([\"PCOS (Y/N)\",\"Sl. No\",\"Patient File No.\"],axis = 'columns')"
   ]
  },
  {
   "cell_type": "code",
   "execution_count": 9,
   "id": "36e7f8e6",
   "metadata": {},
   "outputs": [],
   "source": [
    "inputs.head(50)\n",
    "inputx = inputs.head(4)"
   ]
  },
  {
   "cell_type": "code",
   "execution_count": 10,
   "id": "a0773d55",
   "metadata": {},
   "outputs": [],
   "source": [
    "inputx\n",
    "inputy = inputx.tail(2)"
   ]
  },
  {
   "cell_type": "code",
   "execution_count": 12,
   "id": "b206adab",
   "metadata": {},
   "outputs": [],
   "source": [
    "outputy = inputy.apply(lambda col: col.map(lambda x: \"\"))\n"
   ]
  },
  {
   "cell_type": "code",
   "execution_count": 13,
   "id": "5e3eaafe",
   "metadata": {},
   "outputs": [],
   "source": [
    "target = df[\"PCOS (Y/N)\"]"
   ]
  },
  {
   "cell_type": "code",
   "execution_count": 14,
   "id": "9b5386c9",
   "metadata": {},
   "outputs": [],
   "source": [
    "targetdum = target.head(4)\n",
    "inputsdumy = inputs.head(4)\n"
   ]
  },
  {
   "cell_type": "markdown",
   "id": "5fdc3b9a",
   "metadata": {},
   "source": [
    "# DATA ENCODING FOR TEXT BASED FEATURES & REFORMATION "
   ]
  },
  {
   "cell_type": "code",
   "execution_count": 15,
   "id": "cea3ea0a",
   "metadata": {},
   "outputs": [
    {
     "data": {
      "text/html": [
       "<div>\n",
       "<style scoped>\n",
       "    .dataframe tbody tr th:only-of-type {\n",
       "        vertical-align: middle;\n",
       "    }\n",
       "\n",
       "    .dataframe tbody tr th {\n",
       "        vertical-align: top;\n",
       "    }\n",
       "\n",
       "    .dataframe thead th {\n",
       "        text-align: right;\n",
       "    }\n",
       "</style>\n",
       "<table border=\"1\" class=\"dataframe\">\n",
       "  <thead>\n",
       "    <tr style=\"text-align: right;\">\n",
       "      <th></th>\n",
       "      <th>I   beta-HCG(mIU/mL)</th>\n",
       "      <th>II    beta-HCG(mIU/mL)</th>\n",
       "      <th>AMH(ng/mL)</th>\n",
       "    </tr>\n",
       "  </thead>\n",
       "  <tbody>\n",
       "    <tr>\n",
       "      <th>0</th>\n",
       "      <td>1.99</td>\n",
       "      <td>1.99</td>\n",
       "      <td>2.07</td>\n",
       "    </tr>\n",
       "    <tr>\n",
       "      <th>1</th>\n",
       "      <td>60.80</td>\n",
       "      <td>1.99</td>\n",
       "      <td>1.53</td>\n",
       "    </tr>\n",
       "    <tr>\n",
       "      <th>2</th>\n",
       "      <td>494.08</td>\n",
       "      <td>494.08</td>\n",
       "      <td>6.63</td>\n",
       "    </tr>\n",
       "    <tr>\n",
       "      <th>3</th>\n",
       "      <td>1.99</td>\n",
       "      <td>1.99</td>\n",
       "      <td>1.22</td>\n",
       "    </tr>\n",
       "    <tr>\n",
       "      <th>4</th>\n",
       "      <td>801.45</td>\n",
       "      <td>801.45</td>\n",
       "      <td>2.26</td>\n",
       "    </tr>\n",
       "    <tr>\n",
       "      <th>...</th>\n",
       "      <td>...</td>\n",
       "      <td>...</td>\n",
       "      <td>...</td>\n",
       "    </tr>\n",
       "    <tr>\n",
       "      <th>536</th>\n",
       "      <td>1.99</td>\n",
       "      <td>1.99</td>\n",
       "      <td>1.7</td>\n",
       "    </tr>\n",
       "    <tr>\n",
       "      <th>537</th>\n",
       "      <td>80.13</td>\n",
       "      <td>1.99</td>\n",
       "      <td>5.6</td>\n",
       "    </tr>\n",
       "    <tr>\n",
       "      <th>538</th>\n",
       "      <td>1.99</td>\n",
       "      <td>1.99</td>\n",
       "      <td>3.7</td>\n",
       "    </tr>\n",
       "    <tr>\n",
       "      <th>539</th>\n",
       "      <td>292.92</td>\n",
       "      <td>1.99</td>\n",
       "      <td>5.2</td>\n",
       "    </tr>\n",
       "    <tr>\n",
       "      <th>540</th>\n",
       "      <td>1.99</td>\n",
       "      <td>1.99</td>\n",
       "      <td>20</td>\n",
       "    </tr>\n",
       "  </tbody>\n",
       "</table>\n",
       "<p>541 rows × 3 columns</p>\n",
       "</div>"
      ],
      "text/plain": [
       "       I   beta-HCG(mIU/mL)  II    beta-HCG(mIU/mL) AMH(ng/mL)\n",
       "0                      1.99                    1.99       2.07\n",
       "1                     60.80                    1.99       1.53\n",
       "2                    494.08                  494.08       6.63\n",
       "3                      1.99                    1.99       1.22\n",
       "4                    801.45                  801.45       2.26\n",
       "..                      ...                     ...        ...\n",
       "536                    1.99                    1.99        1.7\n",
       "537                   80.13                    1.99        5.6\n",
       "538                    1.99                    1.99        3.7\n",
       "539                  292.92                    1.99        5.2\n",
       "540                    1.99                    1.99         20\n",
       "\n",
       "[541 rows x 3 columns]"
      ]
     },
     "execution_count": 15,
     "metadata": {},
     "output_type": "execute_result"
    }
   ],
   "source": [
    "inputs"
   ]
  },
  {
   "cell_type": "code",
   "execution_count": 12,
   "id": "a79bb1fd",
   "metadata": {},
   "outputs": [],
   "source": [
    "# NOT REQUIRED SINCE ALL FEATURES HAVE NUMERIC DATATYPE"
   ]
  },
  {
   "cell_type": "markdown",
   "id": "e5a2b44a",
   "metadata": {},
   "source": [
    "## DATA SEGRECATION FOR TRAINING AND TESTING MACHINE MODEL(WITHOUT PCA)"
   ]
  },
  {
   "cell_type": "code",
   "execution_count": 16,
   "id": "8a33802c",
   "metadata": {},
   "outputs": [],
   "source": [
    "from sklearn.model_selection import train_test_split\n",
    "\n",
    "X_train, X_test, y_train, y_test = train_test_split(inputsdumy, targetdum, test_size=0.2)"
   ]
  },
  {
   "cell_type": "code",
   "execution_count": 18,
   "id": "2e6282b1",
   "metadata": {},
   "outputs": [
    {
     "data": {
      "text/plain": [
       "Sl. No                      int64\n",
       "Patient File No.            int64\n",
       "PCOS (Y/N)                  int64\n",
       "  I   beta-HCG(mIU/mL)    float64\n",
       "II    beta-HCG(mIU/mL)    float64\n",
       "AMH(ng/mL)                 object\n",
       "dtype: object"
      ]
     },
     "execution_count": 18,
     "metadata": {},
     "output_type": "execute_result"
    }
   ],
   "source": [
    "df.dtypes"
   ]
  },
  {
   "cell_type": "code",
   "execution_count": 19,
   "id": "a489724b",
   "metadata": {},
   "outputs": [],
   "source": [
    "df['II    beta-HCG(mIU/mL)'] = pd.to_numeric(df['II    beta-HCG(mIU/mL)'])\n"
   ]
  },
  {
   "cell_type": "markdown",
   "id": "84e329dd",
   "metadata": {},
   "source": [
    "# Applying Machine Learning Models without  Principal Component Analysis"
   ]
  },
  {
   "cell_type": "markdown",
   "id": "eceac346",
   "metadata": {},
   "source": [
    "## Logistic Regression"
   ]
  },
  {
   "cell_type": "code",
   "execution_count": 21,
   "id": "ac5af9c2",
   "metadata": {},
   "outputs": [
    {
     "name": "stdout",
     "output_type": "stream",
     "text": [
      "  I   beta-HCG(mIU/mL)    float64\n",
      "II    beta-HCG(mIU/mL)    float64\n",
      "AMH(ng/mL)                float64\n",
      "dtype: object\n",
      "int64\n"
     ]
    }
   ],
   "source": [
    "print(inputs.dtypes)\n",
    "print(target.dtype)\n",
    "\n",
    "# Convert to numeric if needed\n",
    "inputs = inputs.apply(pd.to_numeric, errors='coerce')\n",
    "target = pd.to_numeric(target, errors='coerce')"
   ]
  },
  {
   "cell_type": "code",
   "execution_count": 22,
   "id": "f3ec96dd",
   "metadata": {},
   "outputs": [
    {
     "name": "stdout",
     "output_type": "stream",
     "text": [
      "  I   beta-HCG(mIU/mL)    0\n",
      "II    beta-HCG(mIU/mL)    0\n",
      "AMH(ng/mL)                1\n",
      "dtype: int64\n",
      "0\n"
     ]
    }
   ],
   "source": [
    "print(inputs.isnull().sum())\n",
    "print(target.isnull().sum())\n",
    "\n",
    "# Drop rows with missing values\n",
    "inputs = inputs.dropna()\n",
    "target = target[inputs.index]"
   ]
  },
  {
   "cell_type": "code",
   "execution_count": 23,
   "id": "86f5e70c",
   "metadata": {},
   "outputs": [],
   "source": [
    "from sklearn.preprocessing import OneHotEncoder\n",
    "\n",
    "# Identify categorical columns\n",
    "categorical_cols = inputs.select_dtypes(include=['object', 'category']).columns\n",
    "\n",
    "# One-hot encode categorical variables\n",
    "encoder = OneHotEncoder(sparse_output=False, handle_unknown='ignore')\n",
    "encoded_cats = encoder.fit_transform(inputs[categorical_cols])\n",
    "\n",
    "# Combine with numeric columns\n",
    "numeric_cols = inputs.select_dtypes(include=['int64', 'float64']).columns\n",
    "inputs_encoded = pd.concat([inputs[numeric_cols], \n",
    "                            pd.DataFrame(encoded_cats, columns=encoder.get_feature_names_out(categorical_cols))], \n",
    "                           axis=1)"
   ]
  },
  {
   "cell_type": "code",
   "execution_count": 24,
   "id": "7daec7f0",
   "metadata": {},
   "outputs": [
    {
     "name": "stdout",
     "output_type": "stream",
     "text": [
      "1.5.1\n"
     ]
    }
   ],
   "source": [
    "import sklearn\n",
    "print(sklearn.__version__)"
   ]
  },
  {
   "cell_type": "code",
   "execution_count": 13,
   "id": "b8b4a687",
   "metadata": {},
   "outputs": [
    {
     "name": "stdout",
     "output_type": "stream",
     "text": [
      "Best parameters: {'classifier__max_depth': 14, 'classifier__min_samples_leaf': 3, 'classifier__min_samples_split': 4, 'classifier__n_estimators': 475}\n",
      "Best cross-validation score: 0.8612499999999998\n",
      "Final model score on test set: 88.5\n"
     ]
    }
   ],
   "source": [
    "from sklearn.datasets import make_classification\n",
    "from sklearn.model_selection import RandomizedSearchCV, train_test_split\n",
    "from sklearn.preprocessing import StandardScaler\n",
    "from sklearn.feature_selection import SelectKBest, f_classif\n",
    "from sklearn.pipeline import Pipeline\n",
    "from sklearn.ensemble import RandomForestClassifier\n",
    "from sklearn.linear_model import LogisticRegression\n",
    "from sklearn.svm import SVC\n",
    "from scipy.stats import randint\n",
    "import numpy as np\n",
    "import joblib\n",
    "import pickle\n",
    "\n",
    "# Generate a synthetic dataset for demonstration purposes\n",
    "inputs, target = make_classification(n_samples=1000, n_features=20, \n",
    "                                     n_informative=10, n_redundant=10, random_state=42)\n",
    "\n",
    "# Split data into training and test sets\n",
    "X_train, X_test, y_train, y_test = train_test_split(inputs, target, test_size=0.2, random_state=42)\n",
    "\n",
    "# Preprocess the data\n",
    "scaler = StandardScaler()\n",
    "X_train_scaled = scaler.fit_transform(X_train)\n",
    "X_test_scaled = scaler.transform(X_test)\n",
    "\n",
    "# Feature selection\n",
    "selector = SelectKBest(f_classif, k=5)  # Select top 5 features\n",
    "X_train_selected = selector.fit_transform(X_train_scaled, y_train)\n",
    "X_test_selected = selector.transform(X_test_scaled)\n",
    "\n",
    "# Create a pipeline\n",
    "pipeline = Pipeline([\n",
    "    ('classifier', RandomForestClassifier())\n",
    "])\n",
    "\n",
    "# Define parameter space\n",
    "param_dist = {\n",
    "    'classifier__n_estimators': randint(50, 500),\n",
    "    'classifier__max_depth': randint(1, 20),\n",
    "    'classifier__min_samples_split': randint(2, 11),\n",
    "    'classifier__min_samples_leaf': randint(1, 11)\n",
    "}\n",
    "\n",
    "# Randomized search with cross-validation using threading backend\n",
    "with joblib.parallel_backend('threading'):\n",
    "    random_search = RandomizedSearchCV(pipeline, param_distributions=param_dist, \n",
    "                                       n_iter=100, cv=5, scoring='accuracy', n_jobs=-1)\n",
    "    # Fit the model\n",
    "    random_search.fit(X_train_selected, y_train)\n",
    "\n",
    "# Print best parameters and score\n",
    "print(\"Best parameters:\", random_search.best_params_)\n",
    "print(\"Best cross-validation score:\", random_search.best_score_)\n",
    "\n",
    "# Evaluate on the test set\n",
    "best_model = random_search.best_estimator_\n",
    "score = best_model.score(X_test_selected, y_test) * 100\n",
    "print(\"Final model score on test set:\", score)\n",
    "\n"
   ]
  },
  {
   "cell_type": "code",
   "execution_count": 14,
   "id": "924246b7",
   "metadata": {},
   "outputs": [
    {
     "name": "stdout",
     "output_type": "stream",
     "text": [
      "LogisticRegression training score: 79.75\n",
      "LogisticRegression test score: 80.5\n"
     ]
    }
   ],
   "source": [
    "reg_model = LogisticRegression()\n",
    "reg_model.fit(X_train_selected, y_train)\n",
    "train_score = reg_model.score(X_train_selected, y_train) * 100\n",
    "test_score = reg_model.score(X_test_selected, y_test) * 100\n",
    "print(\"LogisticRegression training score:\", train_score)\n",
    "print(\"LogisticRegression test score:\", test_score)"
   ]
  },
  {
   "cell_type": "markdown",
   "id": "aff2db0b",
   "metadata": {},
   "source": [
    "## Support Vector Machine"
   ]
  },
  {
   "cell_type": "code",
   "execution_count": 23,
   "id": "c731e3f6",
   "metadata": {},
   "outputs": [
    {
     "name": "stdout",
     "output_type": "stream",
     "text": [
      "Unique classes in y_train: [0 1]\n"
     ]
    }
   ],
   "source": [
    "print(\"Unique classes in y_train:\", np.unique(y_train))\n"
   ]
  },
  {
   "cell_type": "code",
   "execution_count": 18,
   "id": "e5588604",
   "metadata": {},
   "outputs": [
    {
     "name": "stdout",
     "output_type": "stream",
     "text": [
      "SVC test score: 88.0\n"
     ]
    }
   ],
   "source": [
    "sv_model = SVC()\n",
    "sv_model.fit(X_train_selected, y_train)\n",
    "sv_score = sv_model.score(X_test_selected, y_test) * 100\n",
    "print(\"SVC test score:\", sv_score)"
   ]
  },
  {
   "cell_type": "markdown",
   "id": "d8311ce0",
   "metadata": {},
   "source": [
    "## Random Forest Classification"
   ]
  },
  {
   "cell_type": "code",
   "execution_count": 19,
   "id": "8d35e3a3",
   "metadata": {},
   "outputs": [
    {
     "name": "stdout",
     "output_type": "stream",
     "text": [
      "prediction score is 98.9\n"
     ]
    }
   ],
   "source": [
    "from sklearn.ensemble import RandomForestClassifier\n",
    "clf=RandomForestClassifier(n_estimators=100)\n",
    "clf.fit(X_train,y_train)\n",
    "Score = clf.score(inputs,target)*100\n",
    "print(\"prediction score is\",Score )"
   ]
  },
  {
   "cell_type": "markdown",
   "id": "2ec4ade8",
   "metadata": {},
   "source": [
    "### Machine learning model without Principle Component Analysis had Better prediction score."
   ]
  },
  {
   "cell_type": "markdown",
   "id": "e5a77d7f",
   "metadata": {},
   "source": [
    "## Making Pickle file to save the machine learning model"
   ]
  },
  {
   "cell_type": "code",
   "execution_count": 20,
   "id": "2d93e0d5",
   "metadata": {},
   "outputs": [],
   "source": [
    "import pickle\n",
    "\n",
    "with open('modelfinal1.pkl', 'wb') as file:\n",
    "    pickle.dump(clf, file)\n"
   ]
  }
 ],
 "metadata": {
  "kernelspec": {
   "display_name": "Python 3 (ipykernel)",
   "language": "python",
   "name": "python3"
  },
  "language_info": {
   "codemirror_mode": {
    "name": "ipython",
    "version": 3
   },
   "file_extension": ".py",
   "mimetype": "text/x-python",
   "name": "python",
   "nbconvert_exporter": "python",
   "pygments_lexer": "ipython3",
   "version": "3.12.4"
  }
 },
 "nbformat": 4,
 "nbformat_minor": 5
}
